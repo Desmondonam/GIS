{
 "cells": [
  {
   "cell_type": "markdown",
   "metadata": {},
   "source": [
    "## Data Collection (Extraction)\n",
    "Learn Data Sources for GIS\n",
    "\n",
    "Study public data portals like:\n",
    "- USGS Earthquake Hazards Program for earthquake data.\n",
    "- NASA FIRMS for fire data.\n",
    "- NOAA and Copernicus Emergency Management Service for flood data.\n",
    "- Access APIs like OpenStreetMap and GDAL for spatial data extraction.\n",
    "- API Integration and Automation\n",
    "\n",
    "- Learn to use Python requests library for data retrieval from APIs.\n",
    "- Understand scheduling tools like Apache Airflow or cron jobs for automating data extraction.\n",
    "- Download and Parse Geospatial Data\n",
    "\n",
    "    - Work with formats like GeoJSON, KML, Shapefiles, and WMS/WFS services."
   ]
  },
  {
   "cell_type": "markdown",
   "metadata": {},
   "source": []
  }
 ],
 "metadata": {
  "language_info": {
   "name": "python"
  }
 },
 "nbformat": 4,
 "nbformat_minor": 2
}
